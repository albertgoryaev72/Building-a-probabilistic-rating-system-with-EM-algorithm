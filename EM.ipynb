{
 "cells": [
  {
   "cell_type": "code",
   "execution_count": 175,
   "id": "920154f8",
   "metadata": {},
   "outputs": [],
   "source": [
    "import json, pickle\n",
    "from collections import Counter\n",
    "import warnings\n",
    "\n",
    "import pandas as pd\n",
    "import numpy as np\n",
    "import seaborn as sns\n",
    "from matplotlib import pyplot as plt\n",
    "from sklearn.preprocessing import OneHotEncoder\n",
    "from sklearn.linear_model import LogisticRegression\n",
    "from sklearn.base import clone\n",
    "from scipy.sparse import vstack, hstack\n",
    "from scipy.stats.stats import spearmanr\n",
    "from scipy.stats.stats import kendalltau\n",
    "from tqdm import tqdm\n",
    "\n",
    "warnings.filterwarnings(\"ignore\")"
   ]
  },
  {
   "cell_type": "markdown",
   "id": "54e217b9",
   "metadata": {},
   "source": [
    "Прочитаем, проанализируем и преобразуем в более удобный вид данные, а также отберем только те турниры, где есть данные о командах и их повопросных результатах, так как очень много турниров без информации о результатах"
   ]
  },
  {
   "cell_type": "code",
   "execution_count": 42,
   "id": "0d10612c",
   "metadata": {},
   "outputs": [],
   "source": [
    "tournaments = pickle.load(open('tournaments.pkl', 'rb'))\n",
    "results = pickle.load(open('results.pkl', 'rb'))\n",
    "players = pickle.load(open('players.pkl', 'rb'))"
   ]
  },
  {
   "cell_type": "code",
   "execution_count": 43,
   "id": "8cd2ad97",
   "metadata": {},
   "outputs": [
    {
     "data": {
      "text/plain": [
       "{1: {'id': 1, 'name': 'Алексей', 'patronymic': None, 'surname': 'Абабилов'},\n",
       " 10: {'id': 10, 'name': 'Игорь', 'patronymic': '', 'surname': 'Абалов'},\n",
       " 11: {'id': 11,\n",
       "  'name': 'Наталья',\n",
       "  'patronymic': 'Юрьевна',\n",
       "  'surname': 'Абалымова'},\n",
       " 12: {'id': 12,\n",
       "  'name': 'Артур',\n",
       "  'patronymic': 'Евгеньевич',\n",
       "  'surname': 'Абальян'},\n",
       " 13: {'id': 13,\n",
       "  'name': 'Эрик',\n",
       "  'patronymic': 'Евгеньевич',\n",
       "  'surname': 'Абальян'},\n",
       " 14: {'id': 14, 'name': 'Василий', 'patronymic': '', 'surname': 'Абанин'},\n",
       " 
       " ...}"
      ]
     },
     "execution_count": 43,
     "metadata": {},
     "output_type": "execute_result"
    }
   ],
   "source": [
    "players"
   ]
  },
  {
   "cell_type": "code",
   "execution_count": 44,
   "id": "c4602dfe",
   "metadata": {},
   "outputs": [
    {
     "data": {
      "text/plain": [
       "{'team': {'id': 242,\n",
       "  'name': 'Команда Азимова',\n",
       "  'town': {'id': 21, 'name': 'Баку'}},\n",
       " 'mask': None,\n",
       " 'current': {'name': 'Команда Азимова', 'town': {'id': 21, 'name': 'Баку'}},\n",
       " 'questionsTotal': 0,\n",
       " 'synchRequest': None,\n",
       " 'position': 1,\n",
       " 'controversials': [],\n",
       " 'flags': [],\n",
       " 'teamMembers': [{'flag': None,\n",
       "   'usedRating': 0,\n",
       "   'rating': 0,\n",
       "   'player': {'id': 476,\n",
       "    'name': 'Анар',\n",
       "    'patronymic': 'Беюкага оглы',\n",
       "    'surname': 'Азимов'}},\n",
       "  {'flag': None,\n",
       "   'usedRating': 0,\n",
       "   'rating': 0,\n",
       "   'player': {'id': 878,\n",
       "    'name': 'Фариз',\n",
       "    'patronymic': 'Наим оглы',\n",
       "    'surname': 'Аликишибеков'}},\n",
       "  {'flag': None,\n",
       "   'usedRating': 0,\n",
       "   'rating': 0,\n",
       "   'player': {'id': 1872,\n",
       "    'name': 'Аднан',\n",
       "    'patronymic': 'Фариз оглы',\n",
       "    'surname': 'Ахундов'}},\n",
       "  {'flag': None,\n",
       "   'usedRating': 0,\n",
       "   'rating': 0,\n",
       "   'player': {'id': 13721,\n",
       "    'name': 'Балаш',\n",
       "    'patronymic': 'Алекпер оглы',\n",
       "    'surname': 'Касумов'}},\n",
       "  {'flag': None,\n",
       "   'usedRating': 0,\n",
       "   'rating': 0,\n",
       "   'player': {'id': 22132,\n",
       "    'name': 'Анар',\n",
       "    'patronymic': 'Джафар оглы',\n",
       "    'surname': 'Наджафли'}},\n",
       "  {'flag': None,\n",
       "   'usedRating': 0,\n",
       "   'rating': 0,\n",
       "   'player': {'id': 22133,\n",
       "    'name': 'Рауф',\n",
       "    'patronymic': 'Джафар оглы',\n",
       "    'surname': 'Наджафли'}}]}"
      ]
     },
     "execution_count": 44,
     "metadata": {},
     "output_type": "execute_result"
    }
   ],
   "source": [
    "results[1][0]"
   ]
  },
  {
   "cell_type": "code",
   "execution_count": 45,
   "id": "1bd7e99c",
   "metadata": {},
   "outputs": [
    {
     "data": {
      "text/plain": [
       "{'id': 10,\n",
       " 'name': 'Гостиный двор',\n",
       " 'dateStart': '2003-11-08T00:00:00+03:00',\n",
       " 'dateEnd': '2003-11-09T00:00:00+03:00',\n",
       " 'type': {'id': 2, 'name': 'Обычный'},\n",
       " 'season': '/seasons/2',\n",
       " 'orgcommittee': [],\n",
       " 'synchData': None,\n",
       " 'questionQty': None}"
      ]
     },
     "execution_count": 45,
     "metadata": {},
     "output_type": "execute_result"
    }
   ],
   "source": [
    "tournaments[10]"
   ]
  },
  {
   "cell_type": "code",
   "execution_count": 46,
   "id": "d4d76096",
   "metadata": {},
   "outputs": [],
   "source": [
    "data_players = pd.DataFrame(players.values()).set_index(\"id\")\n",
    "data_tournaments = pd.DataFrame(tournaments.values()).set_index(\"id\")\n",
    "\n",
    "data_tournaments[\"year\"] = data_tournaments[\"dateStart\"].apply(lambda x: int(x[:4]))\n",
    "data_train_tournaments = data_tournaments[data_tournaments[\"year\"] == 2019]\n",
    "data_test_tournaments = data_tournaments[data_tournaments[\"year\"] == 2020]\n"
   ]
  },
  {
   "cell_type": "code",
   "execution_count": 47,
   "id": "fc51af78",
   "metadata": {},
   "outputs": [
    {
     "data": {
      "text/html": [
       "<div>\n",
       "<style scoped>\n",
       "    .dataframe tbody tr th:only-of-type {\n",
       "        vertical-align: middle;\n",
       "    }\n",
       "\n",
       "    .dataframe tbody tr th {\n",
       "        vertical-align: top;\n",
       "    }\n",
       "\n",
       "    .dataframe thead th {\n",
       "        text-align: right;\n",
       "    }\n",
       "</style>\n",
       "<table border=\"1\" class=\"dataframe\">\n",
       "  <thead>\n",
       "    <tr style=\"text-align: right;\">\n",
       "      <th></th>\n",
       "      <th>name</th>\n",
       "      <th>dateStart</th>\n",
       "      <th>dateEnd</th>\n",
       "      <th>type</th>\n",
       "      <th>season</th>\n",
       "      <th>orgcommittee</th>\n",
       "      <th>synchData</th>\n",
       "      <th>questionQty</th>\n",
       "      <th>year</th>\n",
       "    </tr>\n",
       "    <tr>\n",
       "      <th>id</th>\n",
       "      <th></th>\n",
       "      <th></th>\n",
       "      <th></th>\n",
       "      <th></th>\n",
       "      <th></th>\n",
       "      <th></th>\n",
       "      <th></th>\n",
       "      <th></th>\n",
       "      <th></th>\n",
       "    </tr>\n",
       "  </thead>\n",
       "  <tbody>\n",
       "    <tr>\n",
       "      <th>1</th>\n",
       "      <td>Чемпионат Южного Кавказа</td>\n",
       "      <td>2003-07-25T00:00:00+04:00</td>\n",
       "      <td>2003-07-27T00:00:00+04:00</td>\n",
       "      <td>{'id': 2, 'name': 'Обычный'}</td>\n",
       "      <td>/seasons/1</td>\n",
       "      <td>[]</td>\n",
       "      <td>None</td>\n",
       "      <td>None</td>\n",
       "      <td>2003</td>\n",
       "    </tr>\n",
       "    <tr>\n",
       "      <th>2</th>\n",
       "      <td>Летние зори</td>\n",
       "      <td>2003-08-09T00:00:00+04:00</td>\n",
       "      <td>2003-08-09T00:00:00+04:00</td>\n",
       "      <td>{'id': 2, 'name': 'Обычный'}</td>\n",
       "      <td>/seasons/1</td>\n",
       "      <td>[]</td>\n",
       "      <td>None</td>\n",
       "      <td>None</td>\n",
       "      <td>2003</td>\n",
       "    </tr>\n",
       "    <tr>\n",
       "      <th>3</th>\n",
       "      <td>Турнир в Ижевске</td>\n",
       "      <td>2003-11-22T00:00:00+03:00</td>\n",
       "      <td>2003-11-24T00:00:00+03:00</td>\n",
       "      <td>{'id': 2, 'name': 'Обычный'}</td>\n",
       "      <td>/seasons/2</td>\n",
       "      <td>[]</td>\n",
       "      <td>None</td>\n",
       "      <td>None</td>\n",
       "      <td>2003</td>\n",
       "    </tr>\n",
       "    <tr>\n",
       "      <th>4</th>\n",
       "      <td>Чемпионат Украины. Переходной этап</td>\n",
       "      <td>2003-10-11T00:00:00+04:00</td>\n",
       "      <td>2003-10-12T00:00:00+04:00</td>\n",
       "      <td>{'id': 2, 'name': 'Обычный'}</td>\n",
       "      <td>/seasons/2</td>\n",
       "      <td>[]</td>\n",
       "      <td>None</td>\n",
       "      <td>None</td>\n",
       "      <td>2003</td>\n",
       "    </tr>\n",
       "    <tr>\n",
       "      <th>5</th>\n",
       "      <td>Бостонское чаепитие</td>\n",
       "      <td>2003-10-10T00:00:00+04:00</td>\n",
       "      <td>2003-10-13T00:00:00+04:00</td>\n",
       "      <td>{'id': 2, 'name': 'Обычный'}</td>\n",
       "      <td>/seasons/2</td>\n",
       "      <td>[]</td>\n",
       "      <td>None</td>\n",
       "      <td>None</td>\n",
       "      <td>2003</td>\n",
       "    </tr>\n",
       "    <tr>\n",
       "      <th>...</th>\n",
       "      <td>...</td>\n",
       "      <td>...</td>\n",
       "      <td>...</td>\n",
       "      <td>...</td>\n",
       "      <td>...</td>\n",
       "      <td>...</td>\n",
       "      <td>...</td>\n",
       "      <td>...</td>\n",
       "      <td>...</td>\n",
       "    </tr>\n",
       "    <tr>\n",
       "      <th>6481</th>\n",
       "      <td>Онлайн: 15:00 (а)Синхрон-lite. Лига старта. Эп...</td>\n",
       "      <td>2020-05-05T15:00:00+03:00</td>\n",
       "      <td>2020-05-05T18:00:00+03:00</td>\n",
       "      <td>{'id': 2, 'name': 'Обычный'}</td>\n",
       "      <td>/seasons/53</td>\n",
       "      <td>[{'id': 7533, 'name': 'Денис', 'patronymic': '...</td>\n",
       "      <td>None</td>\n",
       "      <td>{'1': 12, '2': 12, '3': 12}</td>\n",
       "      <td>2020</td>\n",
       "    </tr>\n",
       "    <tr>\n",
       "      <th>6482</th>\n",
       "      <td>Онлайн: 19:00 Зелёный шум</td>\n",
       "      <td>2020-05-07T19:00:00+03:00</td>\n",
       "      <td>2020-05-07T21:30:00+03:00</td>\n",
       "      <td>{'id': 2, 'name': 'Обычный'}</td>\n",
       "      <td>/seasons/53</td>\n",
       "      <td>[{'id': 7533, 'name': 'Денис', 'patronymic': '...</td>\n",
       "      <td>None</td>\n",
       "      <td>{'1': 13, '2': 13, '3': 13}</td>\n",
       "      <td>2020</td>\n",
       "    </tr>\n",
       "    <tr>\n",
       "      <th>6483</th>\n",
       "      <td>Онлайн: 19:00 (а)Синхрон-lite. Лига старта. Эп...</td>\n",
       "      <td>2020-05-08T19:00:00+03:00</td>\n",
       "      <td>2020-05-08T21:30:00+03:00</td>\n",
       "      <td>{'id': 2, 'name': 'Обычный'}</td>\n",
       "      <td>/seasons/53</td>\n",
       "      <td>[{'id': 7533, 'name': 'Денис', 'patronymic': '...</td>\n",
       "      <td>None</td>\n",
       "      <td>{'1': 12, '2': 12, '3': 12}</td>\n",
       "      <td>2020</td>\n",
       "    </tr>\n",
       "    <tr>\n",
       "      <th>6484</th>\n",
       "      <td>Онлайн: 22:00 Не числом, а умением - 2 (NEW!)</td>\n",
       "      <td>2020-05-04T22:00:00+03:00</td>\n",
       "      <td>2020-05-04T23:40:00+03:00</td>\n",
       "      <td>{'id': 2, 'name': 'Обычный'}</td>\n",
       "      <td>/seasons/53</td>\n",
       "      <td>[{'id': 7533, 'name': 'Денис', 'patronymic': '...</td>\n",
       "      <td>None</td>\n",
       "      <td>{'1': 12, '2': 12}</td>\n",
       "      <td>2020</td>\n",
       "    </tr>\n",
       "    <tr>\n",
       "      <th>6485</th>\n",
       "      <td>Онлайн: 19:00 Не числом, а умением</td>\n",
       "      <td>2020-05-06T19:00:00+03:00</td>\n",
       "      <td>2020-05-06T20:45:00+03:00</td>\n",
       "      <td>{'id': 2, 'name': 'Обычный'}</td>\n",
       "      <td>/seasons/53</td>\n",
       "      <td>[{'id': 7533, 'name': 'Денис', 'patronymic': '...</td>\n",
       "      <td>None</td>\n",
       "      <td>{'1': 12, '2': 12}</td>\n",
       "      <td>2020</td>\n",
       "    </tr>\n",
       "  </tbody>\n",
       "</table>\n",
       "<p>5528 rows × 9 columns</p>\n",
       "</div>"
      ],
      "text/plain": [
       "                                                   name  \\\n",
       "id                                                        \n",
       "1                              Чемпионат Южного Кавказа   \n",
       "2                                           Летние зори   \n",
       "3                                      Турнир в Ижевске   \n",
       "4                    Чемпионат Украины. Переходной этап   \n",
       "5                                   Бостонское чаепитие   \n",
       "...                                                 ...   \n",
       "6481  Онлайн: 15:00 (а)Синхрон-lite. Лига старта. Эп...   \n",
       "6482                          Онлайн: 19:00 Зелёный шум   \n",
       "6483  Онлайн: 19:00 (а)Синхрон-lite. Лига старта. Эп...   \n",
       "6484      Онлайн: 22:00 Не числом, а умением - 2 (NEW!)   \n",
       "6485                 Онлайн: 19:00 Не числом, а умением   \n",
       "\n",
       "                      dateStart                    dateEnd  \\\n",
       "id                                                           \n",
       "1     2003-07-25T00:00:00+04:00  2003-07-27T00:00:00+04:00   \n",
       "2     2003-08-09T00:00:00+04:00  2003-08-09T00:00:00+04:00   \n",
       "3     2003-11-22T00:00:00+03:00  2003-11-24T00:00:00+03:00   \n",
       "4     2003-10-11T00:00:00+04:00  2003-10-12T00:00:00+04:00   \n",
       "5     2003-10-10T00:00:00+04:00  2003-10-13T00:00:00+04:00   \n",
       "...                         ...                        ...   \n",
       "6481  2020-05-05T15:00:00+03:00  2020-05-05T18:00:00+03:00   \n",
       "6482  2020-05-07T19:00:00+03:00  2020-05-07T21:30:00+03:00   \n",
       "6483  2020-05-08T19:00:00+03:00  2020-05-08T21:30:00+03:00   \n",
       "6484  2020-05-04T22:00:00+03:00  2020-05-04T23:40:00+03:00   \n",
       "6485  2020-05-06T19:00:00+03:00  2020-05-06T20:45:00+03:00   \n",
       "\n",
       "                              type       season  \\\n",
       "id                                                \n",
       "1     {'id': 2, 'name': 'Обычный'}   /seasons/1   \n",
       "2     {'id': 2, 'name': 'Обычный'}   /seasons/1   \n",
       "3     {'id': 2, 'name': 'Обычный'}   /seasons/2   \n",
       "4     {'id': 2, 'name': 'Обычный'}   /seasons/2   \n",
       "5     {'id': 2, 'name': 'Обычный'}   /seasons/2   \n",
       "...                            ...          ...   \n",
       "6481  {'id': 2, 'name': 'Обычный'}  /seasons/53   \n",
       "6482  {'id': 2, 'name': 'Обычный'}  /seasons/53   \n",
       "6483  {'id': 2, 'name': 'Обычный'}  /seasons/53   \n",
       "6484  {'id': 2, 'name': 'Обычный'}  /seasons/53   \n",
       "6485  {'id': 2, 'name': 'Обычный'}  /seasons/53   \n",
       "\n",
       "                                           orgcommittee synchData  \\\n",
       "id                                                                  \n",
       "1                                                    []      None   \n",
       "2                                                    []      None   \n",
       "3                                                    []      None   \n",
       "4                                                    []      None   \n",
       "5                                                    []      None   \n",
       "...                                                 ...       ...   \n",
       "6481  [{'id': 7533, 'name': 'Денис', 'patronymic': '...      None   \n",
       "6482  [{'id': 7533, 'name': 'Денис', 'patronymic': '...      None   \n",
       "6483  [{'id': 7533, 'name': 'Денис', 'patronymic': '...      None   \n",
       "6484  [{'id': 7533, 'name': 'Денис', 'patronymic': '...      None   \n",
       "6485  [{'id': 7533, 'name': 'Денис', 'patronymic': '...      None   \n",
       "\n",
       "                      questionQty  year  \n",
       "id                                       \n",
       "1                            None  2003  \n",
       "2                            None  2003  \n",
       "3                            None  2003  \n",
       "4                            None  2003  \n",
       "5                            None  2003  \n",
       "...                           ...   ...  \n",
       "6481  {'1': 12, '2': 12, '3': 12}  2020  \n",
       "6482  {'1': 13, '2': 13, '3': 13}  2020  \n",
       "6483  {'1': 12, '2': 12, '3': 12}  2020  \n",
       "6484           {'1': 12, '2': 12}  2020  \n",
       "6485           {'1': 12, '2': 12}  2020  \n",
       "\n",
       "[5528 rows x 9 columns]"
      ]
     },
     "execution_count": 47,
     "metadata": {},
     "output_type": "execute_result"
    }
   ],
   "source": [
    "data_tournaments"
   ]
  },
  {
   "cell_type": "code",
   "execution_count": 48,
   "id": "dca21418",
   "metadata": {},
   "outputs": [
    {
     "data": {
      "text/html": [
       "<div>\n",
       "<style scoped>\n",
       "    .dataframe tbody tr th:only-of-type {\n",
       "        vertical-align: middle;\n",
       "    }\n",
       "\n",
       "    .dataframe tbody tr th {\n",
       "        vertical-align: top;\n",
       "    }\n",
       "\n",
       "    .dataframe thead th {\n",
       "        text-align: right;\n",
       "    }\n",
       "</style>\n",
       "<table border=\"1\" class=\"dataframe\">\n",
       "  <thead>\n",
       "    <tr style=\"text-align: right;\">\n",
       "      <th></th>\n",
       "      <th>name</th>\n",
       "      <th>patronymic</th>\n",
       "      <th>surname</th>\n",
       "    </tr>\n",
       "    <tr>\n",
       "      <th>id</th>\n",
       "      <th></th>\n",
       "      <th></th>\n",
       "      <th></th>\n",
       "    </tr>\n",
       "  </thead>\n",
       "  <tbody>\n",
       "    <tr>\n",
       "      <th>1</th>\n",
       "      <td>Алексей</td>\n",
       "      <td>None</td>\n",
       "      <td>Абабилов</td>\n",
       "    </tr>\n",
       "    <tr>\n",
       "      <th>10</th>\n",
       "      <td>Игорь</td>\n",
       "      <td></td>\n",
       "      <td>Абалов</td>\n",
       "    </tr>\n",
       "    <tr>\n",
       "      <th>11</th>\n",
       "      <td>Наталья</td>\n",
       "      <td>Юрьевна</td>\n",
       "      <td>Абалымова</td>\n",
       "    </tr>\n",
       "    <tr>\n",
       "      <th>12</th>\n",
       "      <td>Артур</td>\n",
       "      <td>Евгеньевич</td>\n",
       "      <td>Абальян</td>\n",
       "    </tr>\n",
       "    <tr>\n",
       "      <th>13</th>\n",
       "      <td>Эрик</td>\n",
       "      <td>Евгеньевич</td>\n",
       "      <td>Абальян</td>\n",
       "    </tr>\n",
       "    <tr>\n",
       "      <th>...</th>\n",
       "      <td>...</td>\n",
       "      <td>...</td>\n",
       "      <td>...</td>\n",
       "    </tr>\n",
       "    <tr>\n",
       "      <th>224700</th>\n",
       "      <td>Артём</td>\n",
       "      <td>Евгеньевич</td>\n",
       "      <td>Садов</td>\n",
       "    </tr>\n",
       "    <tr>\n",
       "      <th>224701</th>\n",
       "      <td>Даниил</td>\n",
       "      <td>Олегович</td>\n",
       "      <td>Трефилов</td>\n",
       "    </tr>\n",
       "    <tr>\n",
       "      <th>224702</th>\n",
       "      <td>Владимир</td>\n",
       "      <td>Араратович</td>\n",
       "      <td>Басенцян</td>\n",
       "    </tr>\n",
       "    <tr>\n",
       "      <th>224703</th>\n",
       "      <td>Руслан</td>\n",
       "      <td>Ринатович</td>\n",
       "      <td>Дауранов</td>\n",
       "    </tr>\n",
       "    <tr>\n",
       "      <th>224704</th>\n",
       "      <td>Александр</td>\n",
       "      <td>Викторович</td>\n",
       "      <td>Гапонов</td>\n",
       "    </tr>\n",
       "  </tbody>\n",
       "</table>\n",
       "<p>204063 rows × 3 columns</p>\n",
       "</div>"
      ],
      "text/plain": [
       "             name  patronymic    surname\n",
       "id                                      \n",
       "1         Алексей        None   Абабилов\n",
       "10          Игорь                 Абалов\n",
       "11        Наталья     Юрьевна  Абалымова\n",
       "12          Артур  Евгеньевич    Абальян\n",
       "13           Эрик  Евгеньевич    Абальян\n",
       "...           ...         ...        ...\n",
       "224700      Артём  Евгеньевич      Садов\n",
       "224701     Даниил    Олегович   Трефилов\n",
       "224702   Владимир  Араратович   Басенцян\n",
       "224703     Руслан   Ринатович   Дауранов\n",
       "224704  Александр  Викторович    Гапонов\n",
       "\n",
       "[204063 rows x 3 columns]"
      ]
     },
     "execution_count": 48,
     "metadata": {},
     "output_type": "execute_result"
    }
   ],
   "source": [
    "data_players"
   ]
  },
  {
   "cell_type": "code",
   "execution_count": 49,
   "id": "269a13c8",
   "metadata": {},
   "outputs": [],
   "source": [
    "train_info = []\n",
    "all_players_index = set()\n",
    "all_questions_index = []"
   ]
  },
  {
   "cell_type": "code",
   "execution_count": 51,
   "id": "b9a30bba",
   "metadata": {},
   "outputs": [],
   "source": [
    "for index in data_train_tournaments.index:\n",
    "    tournament_results = results[index]\n",
    "    cnt_questions = set()\n",
    "    \n",
    "    mask = \"\"\n",
    "    \n",
    "    for team in results[index]:\n",
    "        if team.get('mask') is not None:\n",
    "            cnt_questions.add(len(team['mask'].replace(\"?\", \"\").replace(\"X\", \"\")))\n",
    "\n",
    "    if len(cnt_questions) >  1:\n",
    "        continue\n",
    "    for team in tournament_results:\n",
    "        info = {}\n",
    "        if team.get(\"mask\") is None or team.get(\"teamMembers\") is None:\n",
    "            continue\n",
    "        if team[\"teamMembers\"] == []:\n",
    "            continue\n",
    "        \n",
    "        mask = team[\"mask\"].replace(\"?\", \"\").replace(\"X\", \"\")\n",
    "        info[\"tournament_id\"] = index\n",
    "        info[\"team_id\"] = team.get(\"team\").get(\"id\")\n",
    "        info[\"mask\"] = list(map(int, mask))\n",
    "        info[\"players_id\"] = []\n",
    "        players = team[\"teamMembers\"]\n",
    "        \n",
    "        for player in players:\n",
    "            info[\"players_id\"].append(player[\"player\"][\"id\"])\n",
    "            all_players_index.add(player[\"player\"][\"id\"])\n",
    "    \n",
    "        train_info.append(info)\n",
    "    \n",
    "    if mask:\n",
    "        for i, _ in enumerate(mask):\n",
    "            all_questions_index.append(str(index) + \"-\" + str(i))\n",
    "\n",
    "all_players_index = list(all_players_index)"
   ]
  },
  {
   "cell_type": "markdown",
   "id": "8c2a37f9",
   "metadata": {},
   "source": [
    "Преобразовали данные в вид, где есть информация о номере турнира, номере команды в этом турнире, списке игроков команды и повопросные результаты команды"
   ]
  },
  {
   "cell_type": "code",
   "execution_count": 52,
   "id": "7d97b2ca",
   "metadata": {
    "scrolled": false
   },
   "outputs": [
    {
     "data": {
      "text/plain": [
       "{'tournament_id': 4772,\n",
       " 'team_id': 45556,\n",
       " 'mask': [1,\n",
       "  1,\n",
       "  1,\n",
       "  1,\n",
       "  1,\n",
       "  1,\n",
       "  1,\n",
       "  1,\n",
       "  1,\n",
       "  0,\n",
       "  1,\n",
       "  1,\n",
       "  1,\n",
       "  1,\n",
       "  1,\n",
       "  1,\n",
       "  1,\n",
       "  0,\n",
       "  1,\n",
       "  1,\n",
       "  1,\n",
       "  1,\n",
       "  1,\n",
       "  1,\n",
       "  1,\n",
       "  1,\n",
       "  1,\n",
       "  1,\n",
       "  0,\n",
       "  0,\n",
       "  0,\n",
       "  1,\n",
       "  0,\n",
       "  0,\n",
       "  1,\n",
       "  0],\n",
       " 'players_id': [6212, 18332, 18036, 22799, 15456, 26089]}"
      ]
     },
     "execution_count": 52,
     "metadata": {},
     "output_type": "execute_result"
    }
   ],
   "source": [
    "train_info[0]"
   ]
  },
  {
   "cell_type": "code",
   "execution_count": 136,
   "id": "c0feb730",
   "metadata": {},
   "outputs": [
    {
     "data": {
      "text/plain": [
       "array([[131077],\n",
       "       [131080],\n",
       "       [131082],\n",
       "       ...,\n",
       "       [208410],\n",
       "       [131061],\n",
       "       [131068]])"
      ]
     },
     "execution_count": 136,
     "metadata": {},
     "output_type": "execute_result"
    }
   ],
   "source": [
    "all_players_index"
   ]
  },
  {
   "cell_type": "code",
   "execution_count": 55,
   "id": "f573c344",
   "metadata": {},
   "outputs": [
    {
     "data": {
      "text/plain": [
       "['4772-0',\n",
       " '4772-1',\n",
       " '4772-2',\n",
       " '4772-3',\n",
       " '4772-4',\n",
       " '4772-5',\n",
       " '4772-6',\n",
       " '4772-7',\n",
       " '4772-8',\n",
       " '4772-9',\n",
       " '4772-10',\n",
       " '4772-11',\n",
       " '4772-12',\n",
       " '4772-13',\n",
       " '4772-14',\n",
       " '4772-15',\n",
       " '4772-16',\n",
       " '4772-17',\n",
       " '4772-18',\n",
       " '4772-19',\n",
       " '4772-20',\n",
       " '4772-21',\n",
       " '4772-22',\n",
       " '4772-23',\n",
       " '4772-24',\n",
       " '4772-25',\n",
       " '4772-26',\n",
       " ...]"
      ]
     },
     "execution_count": 55,
     "metadata": {},
     "output_type": "execute_result"
    }
   ],
   "source": [
    "all_questions_index"
   ]
  },
  {
   "cell_type": "markdown",
   "id": "dc8f8615",
   "metadata": {},
   "source": [
    "Попрпобуем сначал построить бейзлайн при помощи логистической регрессии, где мы будем обучать силу игрока, а также сложность каждого вопроса. Для обучения будем использовать при помощи OneHotEncoder вектора с длиной количество игроков + количество вопросов, где первый вектор отвечает за то, какой игрок отвечает, а второй отвечает за то, на какой вопрос он отвечает. Также мы пока не учитываем в какой команде был игрок, а только учитываем правильно ли он(вместе с командой) на него ответил. То есть решаем задачу бинарной классификации. На выходе мы получим веса для каждого игрока, которые показывают силу игрока, а также веса для вопросов, которые показывают их сложность. "
   ]
  },
  {
   "cell_type": "code",
   "execution_count": 60,
   "id": "ce181b39",
   "metadata": {},
   "outputs": [],
   "source": [
    "ohe_hot_players = OneHotEncoder()\n",
    "ohe_hot_questions = OneHotEncoder()\n",
    "\n",
    "all_players_index = np.array(all_players_index)\n",
    "all_players_index = all_players_index.reshape(-1, 1)\n",
    "ohe_all_players_index = ohe_hot_players.fit_transform(all_players_index)\n",
    "\n",
    "all_questions_index = np.array(all_questions_index)\n",
    "all_questions_index = all_questions_index.reshape(-1, 1)\n",
    "ohe_all_questions_index = ohe_hot_questions.fit_transform(all_questions_index)"
   ]
  },
  {
   "cell_type": "code",
   "execution_count": 64,
   "id": "d954ae89",
   "metadata": {},
   "outputs": [
    {
     "name": "stderr",
     "output_type": "stream",
     "text": [
      "100%|████████████████████████████████████████████████████████████████████████████| 76490/76490 [50:44<00:00, 25.13it/s]\n"
     ]
    }
   ],
   "source": [
    "data_for_train = []\n",
    "data_for_answer = []\n",
    "\n",
    "for team in tqdm(train_info):\n",
    "    tour_id = team['tournament_id']\n",
    "    team_id = team['team_id']\n",
    "    mask = team['mask']\n",
    "    pl_id = team['players_id']\n",
    "    \n",
    "    tour_questions = []\n",
    "    \n",
    "    arr_players = []\n",
    "    for pl in pl_id:\n",
    "        arr_players.extend(len(mask) * [pl])\n",
    "    \n",
    "    arr_players = np.array(arr_players)\n",
    "    arr_players = arr_players.reshape(-1, 1)\n",
    "    \n",
    "    players_hot = ohe_hot_players.transform(arr_players)\n",
    "    \n",
    "    for i in range(len(mask)):\n",
    "        tour_questions.append(str(tour_id) + '-' + str(i))\n",
    "        \n",
    "    arr_quest = tour_questions * len(pl_id)\n",
    "    arr_quest = np.array(arr_quest).reshape(-1, 1)\n",
    "    quest_hot = ohe_hot_questions.transform(arr_quest)\n",
    "    \n",
    "    data_for_answer.append(np.array(mask * len(pl_id)).reshape(-1, 1))\n",
    "    matr_to_train = np.hstack([players_hot, quest_hot])\n",
    "    data_for_train.append(matr_to_train)\n"
   ]
  },
  {
   "cell_type": "code",
   "execution_count": 92,
   "id": "a4c5e3d1",
   "metadata": {},
   "outputs": [
    {
     "name": "stderr",
     "output_type": "stream",
     "text": [
      "100%|██████████████████████████████████████████████████████████████████████████| 76490/76490 [00:18<00:00, 4186.36it/s]\n"
     ]
    }
   ],
   "source": [
    "for i in tqdm(range(len(data_for_train))):\n",
    "    data_for_train[i] = hstack([data_for_train[i][0], data_for_train[i][1]])\n",
    "    "
   ]
  },
  {
   "cell_type": "code",
   "execution_count": 108,
   "id": "692fad79",
   "metadata": {},
   "outputs": [],
   "source": [
    "data = vstack(data_for_train)"
   ]
  },
  {
   "cell_type": "code",
   "execution_count": 109,
   "id": "ea9f07e6",
   "metadata": {},
   "outputs": [
    {
     "data": {
      "text/plain": [
       "<15727008x86386 sparse matrix of type '<class 'numpy.float64'>'\n",
       "\twith 31454016 stored elements in COOrdinate format>"
      ]
     },
     "execution_count": 109,
     "metadata": {},
     "output_type": "execute_result"
    }
   ],
   "source": [
    "data"
   ]
  },
  {
   "cell_type": "code",
   "execution_count": 110,
   "id": "d5ac3c62",
   "metadata": {},
   "outputs": [],
   "source": [
    "target = np.vstack(data_for_answer)"
   ]
  },
  {
   "cell_type": "code",
   "execution_count": 111,
   "id": "69da262d",
   "metadata": {},
   "outputs": [
    {
     "data": {
      "text/plain": [
       "LogisticRegression(solver='saga')"
      ]
     },
     "execution_count": 111,
     "metadata": {},
     "output_type": "execute_result"
    }
   ],
   "source": [
    "clf = LogisticRegression(solver='saga')\n",
    "clf.fit(data, target)"
   ]
  },
  {
   "cell_type": "code",
   "execution_count": 115,
   "id": "67641ed6",
   "metadata": {},
   "outputs": [
    {
     "data": {
      "text/plain": [
       "array([[ 0.75610967,  1.59748085,  1.13448041, ..., -0.50205615,\n",
       "         5.05129057,  3.06909064]])"
      ]
     },
     "execution_count": 115,
     "metadata": {},
     "output_type": "execute_result"
    }
   ],
   "source": [
    "clf.coef_"
   ]
  },
  {
   "cell_type": "code",
   "execution_count": 125,
   "id": "4fddbac4",
   "metadata": {},
   "outputs": [
    {
     "data": {
      "text/plain": [
       "array(['x0_15', 'x0_16', 'x0_23', ..., 'x0_224408', 'x0_224482',\n",
       "       'x0_224539'], dtype=object)"
      ]
     },
     "execution_count": 125,
     "metadata": {},
     "output_type": "execute_result"
    }
   ],
   "source": [
    "ohe_hot_players.get_feature_names()"
   ]
  },
  {
   "cell_type": "code",
   "execution_count": 156,
   "id": "ea3186ef",
   "metadata": {},
   "outputs": [],
   "source": [
    "players_index_in_train = set()\n",
    "for team in train_info:\n",
    "    for pl_id in team[\"players_id\"]:\n",
    "        players_index_in_train.add(pl_id)\n",
    "\n",
    "players_index_in_train = list(players_index_in_train)\n",
    "players_index_in_train.sort()\n",
    "\n",
    "rate_of_player = pd.DataFrame({'players_id': players_index_in_train,\n",
    "                       'strength': clf.coef_[0][:len(players_index_in_train)]})"
   ]
  },
  {
   "cell_type": "code",
   "execution_count": 157,
   "id": "bac0a672",
   "metadata": {},
   "outputs": [
    {
     "data": {
      "text/html": [
       "<div>\n",
       "<style scoped>\n",
       "    .dataframe tbody tr th:only-of-type {\n",
       "        vertical-align: middle;\n",
       "    }\n",
       "\n",
       "    .dataframe tbody tr th {\n",
       "        vertical-align: top;\n",
       "    }\n",
       "\n",
       "    .dataframe thead th {\n",
       "        text-align: right;\n",
       "    }\n",
       "</style>\n",
       "<table border=\"1\" class=\"dataframe\">\n",
       "  <thead>\n",
       "    <tr style=\"text-align: right;\">\n",
       "      <th></th>\n",
       "      <th>players_id</th>\n",
       "      <th>strength</th>\n",
       "    </tr>\n",
       "  </thead>\n",
       "  <tbody>\n",
       "    <tr>\n",
       "      <th>0</th>\n",
       "      <td>15</td>\n",
       "      <td>0.756110</td>\n",
       "    </tr>\n",
       "    <tr>\n",
       "      <th>1</th>\n",
       "      <td>16</td>\n",
       "      <td>1.597481</td>\n",
       "    </tr>\n",
       "    <tr>\n",
       "      <th>2</th>\n",
       "      <td>23</td>\n",
       "      <td>1.134480</td>\n",
       "    </tr>\n",
       "    <tr>\n",
       "      <th>3</th>\n",
       "      <td>31</td>\n",
       "      <td>1.132524</td>\n",
       "    </tr>\n",
       "    <tr>\n",
       "      <th>4</th>\n",
       "      <td>35</td>\n",
       "      <td>1.112600</td>\n",
       "    </tr>\n",
       "    <tr>\n",
       "      <th>...</th>\n",
       "      <td>...</td>\n",
       "      <td>...</td>\n",
       "    </tr>\n",
       "    <tr>\n",
       "      <th>65</th>\n",
       "      <td>489</td>\n",
       "      <td>2.377085</td>\n",
       "    </tr>\n",
       "    <tr>\n",
       "      <th>66</th>\n",
       "      <td>490</td>\n",
       "      <td>2.687155</td>\n",
       "    </tr>\n",
       "    <tr>\n",
       "      <th>67</th>\n",
       "      <td>503</td>\n",
       "      <td>1.681479</td>\n",
       "    </tr>\n",
       "    <tr>\n",
       "      <th>68</th>\n",
       "      <td>505</td>\n",
       "      <td>3.398249</td>\n",
       "    </tr>\n",
       "    <tr>\n",
       "      <th>69</th>\n",
       "      <td>509</td>\n",
       "      <td>-0.465629</td>\n",
       "    </tr>\n",
       "  </tbody>\n",
       "</table>\n",
       "<p>70 rows × 2 columns</p>\n",
       "</div>"
      ],
      "text/plain": [
       "    players_id  strength\n",
       "0           15  0.756110\n",
       "1           16  1.597481\n",
       "2           23  1.134480\n",
       "3           31  1.132524\n",
       "4           35  1.112600\n",
       "..         ...       ...\n",
       "65         489  2.377085\n",
       "66         490  2.687155\n",
       "67         503  1.681479\n",
       "68         505  3.398249\n",
       "69         509 -0.465629\n",
       "\n",
       "[70 rows x 2 columns]"
      ]
     },
     "execution_count": 157,
     "metadata": {},
     "output_type": "execute_result"
    }
   ],
   "source": [
    "rate_of_player.head(70)"
   ]
  },
  {
   "cell_type": "code",
   "execution_count": 158,
   "id": "e206b277",
   "metadata": {},
   "outputs": [],
   "source": [
    "count_quest_of_every_player = {}\n",
    "\n",
    "\n",
    "for team in train_info:\n",
    "    for pl_id in team[\"players_id\"]:\n",
    "        if pl_id in count_quest_of_every_player:\n",
    "            count_quest_of_every_player[pl_id] += len(mask)\n",
    "        else:\n",
    "            count_quest_of_every_player[pl_id] = 0"
   ]
  },
  {
   "cell_type": "code",
   "execution_count": 159,
   "id": "e67ffb34",
   "metadata": {},
   "outputs": [],
   "source": [
    "df_count_quest = pd.DataFrame.from_dict(count_quest_of_every_player, orient='index')"
   ]
  },
  {
   "cell_type": "code",
   "execution_count": 160,
   "id": "7f17b1b6",
   "metadata": {},
   "outputs": [],
   "source": [
    "df_count_quest[\"players_id\"] = df_count_quest.index"
   ]
  },
  {
   "cell_type": "code",
   "execution_count": 161,
   "id": "7d81d4d4",
   "metadata": {},
   "outputs": [],
   "source": [
    "player_copy = data_players.copy()\n",
    "player_copy[\"players_id\"] = player_copy.index\n",
    "\n",
    "rate_of_player = player_copy.merge(rate_of_player, on=\"players_id\")"
   ]
  },
  {
   "cell_type": "code",
   "execution_count": 163,
   "id": "31c67ef8",
   "metadata": {},
   "outputs": [],
   "source": [
    "rate_of_player = rate_of_player.merge(df_count_quest, on=\"players_id\")"
   ]
  },
  {
   "cell_type": "code",
   "execution_count": 170,
   "id": "3fb7a1c7",
   "metadata": {},
   "outputs": [],
   "source": [
    "rate_of_player.rename(columns = {0:'count'}, inplace = True)"
   ]
  },
  {
   "cell_type": "markdown",
   "id": "2dfd2f85",
   "metadata": {},
   "source": [
    "Выведем топ 50 игроков, а также, чтобы исключить игроков, которые сыграли мало игр, поставим условие количество отвеченных вопросов больше 1200:"
   ]
  },
  {
   "cell_type": "code",
   "execution_count": 173,
   "id": "5056a616",
   "metadata": {},
   "outputs": [
    {
     "data": {
      "text/html": [
       "<div>\n",
       "<style scoped>\n",
       "    .dataframe tbody tr th:only-of-type {\n",
       "        vertical-align: middle;\n",
       "    }\n",
       "\n",
       "    .dataframe tbody tr th {\n",
       "        vertical-align: top;\n",
       "    }\n",
       "\n",
       "    .dataframe thead th {\n",
       "        text-align: right;\n",
       "    }\n",
       "</style>\n",
       "<table border=\"1\" class=\"dataframe\">\n",
       "  <thead>\n",
       "    <tr style=\"text-align: right;\">\n",
       "      <th></th>\n",
       "      <th>name</th>\n",
       "      <th>patronymic</th>\n",
       "      <th>surname</th>\n",
       "      <th>players_id</th>\n",
       "      <th>strength</th>\n",
       "      <th>count</th>\n",
       "    </tr>\n",
       "  </thead>\n",
       "  <tbody>\n",
       "    <tr>\n",
       "      <th>3832</th>\n",
       "      <td>Максим</td>\n",
       "      <td>Михайлович</td>\n",
       "      <td>Руссо</td>\n",
       "      <td>27403</td>\n",
       "      <td>4.164991</td>\n",
       "      <td>1872</td>\n",
       "    </tr>\n",
       "    <tr>\n",
       "      <th>601</th>\n",
       "      <td>Александра</td>\n",
       "      <td>Владимировна</td>\n",
       "      <td>Брутер</td>\n",
       "      <td>4270</td>\n",
       "      <td>4.033636</td>\n",
       "      <td>2304</td>\n",
       "    </tr>\n",
       "    <tr>\n",
       "      <th>4021</th>\n",
       "      <td>Иван</td>\n",
       "      <td>Николаевич</td>\n",
       "      <td>Семушин</td>\n",
       "      <td>28751</td>\n",
       "      <td>3.984045</td>\n",
       "      <td>3276</td>\n",
       "    </tr>\n",
       "    <tr>\n",
       "      <th>3904</th>\n",
       "      <td>Михаил</td>\n",
       "      <td>Владимирович</td>\n",
       "      <td>Савченков</td>\n",
       "      <td>27822</td>\n",
       "      <td>3.895236</td>\n",
       "      <td>2664</td>\n",
       "    </tr>\n",
       "    <tr>\n",
       "      <th>4207</th>\n",
       "      <td>Артём</td>\n",
       "      <td>Сергеевич</td>\n",
       "      <td>Сорожкин</td>\n",
       "      <td>30152</td>\n",
       "      <td>3.815803</td>\n",
       "      <td>4320</td>\n",
       "    </tr>\n",
       "    <tr>\n",
       "      <th>4227</th>\n",
       "      <td>Сергей</td>\n",
       "      <td>Леонидович</td>\n",
       "      <td>Спешков</td>\n",
       "      <td>30270</td>\n",
       "      <td>3.815690</td>\n",
       "      <td>2952</td>\n",
       "    </tr>\n",
       "    <tr>\n",
       "      <th>2908</th>\n",
       "      <td>Станислав</td>\n",
       "      <td>Григорьевич</td>\n",
       "      <td>Мереминский</td>\n",
       "      <td>20691</td>\n",
       "      <td>3.691010</td>\n",
       "      <td>1260</td>\n",
       "    </tr>\n",
       "    <tr>\n",
       "      <th>3202</th>\n",
       "      <td>Сергей</td>\n",
       "      <td>Игоревич</td>\n",
       "      <td>Николенко</td>\n",
       "      <td>22799</td>\n",
       "      <td>3.564367</td>\n",
       "      <td>1656</td>\n",
       "    </tr>\n",
       "    <tr>\n",
       "      <th>2594</th>\n",
       "      <td>Александр</td>\n",
       "      <td>Витальевич</td>\n",
       "      <td>Либер</td>\n",
       "      <td>18332</td>\n",
       "      <td>3.521475</td>\n",
       "      <td>3132</td>\n",
       "    </tr>\n",
       "    <tr>\n",
       "      <th>2803</th>\n",
       "      <td>Александр</td>\n",
       "      <td>Валерьевич</td>\n",
       "      <td>Марков</td>\n",
       "      <td>19915</td>\n",
       "      <td>3.494593</td>\n",
       "      <td>2412</td>\n",
       "    </tr>\n",
       "    <tr>\n",
       "      <th>981</th>\n",
       "      <td>Алексей</td>\n",
       "      <td>Владимирович</td>\n",
       "      <td>Гилёв</td>\n",
       "      <td>7008</td>\n",
       "      <td>3.494427</td>\n",
       "      <td>3816</td>\n",
       "    </tr>\n",
       "    <tr>\n",
       "      <th>226</th>\n",
       "      <td>Юлия</td>\n",
       "      <td>Сергеевна</td>\n",
       "      <td>Архангельская</td>\n",
       "      <td>1585</td>\n",
       "      <td>3.477822</td>\n",
       "      <td>1332</td>\n",
       "    </tr>\n",
       "    <tr>\n",
       "      <th>2378</th>\n",
       "      <td>Наталья</td>\n",
       "      <td>Алексеевна</td>\n",
       "      <td>Кудряшова</td>\n",
       "      <td>16837</td>\n",
       "      <td>3.476416</td>\n",
       "      <td>2088</td>\n",
       "    </tr>\n",
       "    <tr>\n",
       "      <th>2304</th>\n",
       "      <td>Николай</td>\n",
       "      <td>Валерьевич</td>\n",
       "      <td>Крапиль</td>\n",
       "      <td>16332</td>\n",
       "      <td>3.466449</td>\n",
       "      <td>1332</td>\n",
       "    </tr>\n",
       "    <tr>\n",
       "      <th>6671</th>\n",
       "      <td>Наталья</td>\n",
       "      <td>Евгеньевна</td>\n",
       "      <td>Горелова</td>\n",
       "      <td>56647</td>\n",
       "      <td>3.464547</td>\n",
       "      <td>1692</td>\n",
       "    </tr>\n",
       "    <tr>\n",
       "      <th>8145</th>\n",
       "      <td>Михаил</td>\n",
       "      <td>Андреевич</td>\n",
       "      <td>Новосёлов</td>\n",
       "      <td>74382</td>\n",
       "      <td>3.454262</td>\n",
       "      <td>2412</td>\n",
       "    </tr>\n",
       "    <tr>\n",
       "      <th>4839</th>\n",
       "      <td>Антон</td>\n",
       "      <td>Анатольевич</td>\n",
       "      <td>Чернин</td>\n",
       "      <td>34846</td>\n",
       "      <td>3.446627</td>\n",
       "      <td>1224</td>\n",
       "    </tr>\n",
       "    <tr>\n",
       "      <th>2069</th>\n",
       "      <td>Николай</td>\n",
       "      <td>Александрович</td>\n",
       "      <td>Коврижных</td>\n",
       "      <td>14786</td>\n",
       "      <td>3.443719</td>\n",
       "      <td>2304</td>\n",
       "    </tr>\n",
       "    <tr>\n",
       "      <th>870</th>\n",
       "      <td>Юрий</td>\n",
       "      <td>Яковлевич</td>\n",
       "      <td>Выменец</td>\n",
       "      <td>6212</td>\n",
       "      <td>3.435515</td>\n",
       "      <td>2700</td>\n",
       "    </tr>\n",
       "    <tr>\n",
       "      <th>3343</th>\n",
       "      <td>Андрей</td>\n",
       "      <td>Вячеславович</td>\n",
       "      <td>Островский</td>\n",
       "      <td>23737</td>\n",
       "      <td>3.433695</td>\n",
       "      <td>2196</td>\n",
       "    </tr>\n",
       "    <tr>\n",
       "      <th>2814</th>\n",
       "      <td>Александр</td>\n",
       "      <td>Ефимович</td>\n",
       "      <td>Мартынов</td>\n",
       "      <td>20001</td>\n",
       "      <td>3.408659</td>\n",
       "      <td>1224</td>\n",
       "    </tr>\n",
       "    <tr>\n",
       "      <th>5262</th>\n",
       "      <td>Дмитрий</td>\n",
       "      <td>Николаевич</td>\n",
       "      <td>Петров</td>\n",
       "      <td>37718</td>\n",
       "      <td>3.399658</td>\n",
       "      <td>2088</td>\n",
       "    </tr>\n",
       "    <tr>\n",
       "      <th>68</th>\n",
       "      <td>Иделия</td>\n",
       "      <td>Мукадясовна</td>\n",
       "      <td>Айзятулова</td>\n",
       "      <td>505</td>\n",
       "      <td>3.398249</td>\n",
       "      <td>1620</td>\n",
       "    </tr>\n",
       "    <tr>\n",
       "      <th>4591</th>\n",
       "      <td>Татьяна</td>\n",
       "      <td>Евгеньевна</td>\n",
       "      <td>Фёдорова</td>\n",
       "      <td>33032</td>\n",
       "      <td>3.395489</td>\n",
       "      <td>2628</td>\n",
       "    </tr>\n",
       "    <tr>\n",
       "      <th>4578</th>\n",
       "      <td>Наиль</td>\n",
       "      <td>Евгеньевич</td>\n",
       "      <td>Фарукшин</td>\n",
       "      <td>32901</td>\n",
       "      <td>3.378227</td>\n",
       "      <td>2520</td>\n",
       "    </tr>\n",
       "    <tr>\n",
       "      <th>4012</th>\n",
       "      <td>Инна</td>\n",
       "      <td>Валентиновна</td>\n",
       "      <td>Семёнова</td>\n",
       "      <td>28689</td>\n",
       "      <td>3.360750</td>\n",
       "      <td>1944</td>\n",
       "    </tr>\n",
       "    <tr>\n",
       "      <th>2189</th>\n",
       "      <td>Кристина</td>\n",
       "      <td>Олеговна</td>\n",
       "      <td>Кораблина</td>\n",
       "      <td>15595</td>\n",
       "      <td>3.352206</td>\n",
       "      <td>2412</td>\n",
       "    </tr>\n",
       "    <tr>\n",
       "      <th>3253</th>\n",
       "      <td>Елизавета</td>\n",
       "      <td>Сергеевна</td>\n",
       "      <td>Овдеенко</td>\n",
       "      <td>23178</td>\n",
       "      <td>3.331009</td>\n",
       "      <td>1800</td>\n",
       "    </tr>\n",
       "    <tr>\n",
       "      <th>3274</th>\n",
       "      <td>Дмитрий</td>\n",
       "      <td>Сергеевич</td>\n",
       "      <td>Ожигов</td>\n",
       "      <td>23321</td>\n",
       "      <td>3.329323</td>\n",
       "      <td>3060</td>\n",
       "    </tr>\n",
       "    <tr>\n",
       "      <th>2166</th>\n",
       "      <td>Сергей</td>\n",
       "      <td>Владимирович</td>\n",
       "      <td>Коновалов</td>\n",
       "      <td>15456</td>\n",
       "      <td>3.312394</td>\n",
       "      <td>1620</td>\n",
       "    </tr>\n",
       "    <tr>\n",
       "      <th>1501</th>\n",
       "      <td>Иван</td>\n",
       "      <td>Николаевич</td>\n",
       "      <td>Ефремов</td>\n",
       "      <td>10695</td>\n",
       "      <td>3.309201</td>\n",
       "      <td>1476</td>\n",
       "    </tr>\n",
       "    <tr>\n",
       "      <th>3626</th>\n",
       "      <td>Максим</td>\n",
       "      <td>Оскарович</td>\n",
       "      <td>Поташев</td>\n",
       "      <td>25882</td>\n",
       "      <td>3.302452</td>\n",
       "      <td>1368</td>\n",
       "    </tr>\n",
       "    <tr>\n",
       "      <th>1487</th>\n",
       "      <td>Павел</td>\n",
       "      <td>Михайлович</td>\n",
       "      <td>Ершов</td>\n",
       "      <td>10586</td>\n",
       "      <td>3.295038</td>\n",
       "      <td>2412</td>\n",
       "    </tr>\n",
       "    <tr>\n",
       "      <th>896</th>\n",
       "      <td>Ким</td>\n",
       "      <td>Гагикович</td>\n",
       "      <td>Галачян</td>\n",
       "      <td>6482</td>\n",
       "      <td>3.295032</td>\n",
       "      <td>2808</td>\n",
       "    </tr>\n",
       "    <tr>\n",
       "      <th>10104</th>\n",
       "      <td>Наталья</td>\n",
       "      <td>Александровна</td>\n",
       "      <td>Комар</td>\n",
       "      <td>96330</td>\n",
       "      <td>3.287711</td>\n",
       "      <td>3492</td>\n",
       "    </tr>\n",
       "    <tr>\n",
       "      <th>4347</th>\n",
       "      <td>Эльман</td>\n",
       "      <td>Эльдар оглы</td>\n",
       "      <td>Талыбов</td>\n",
       "      <td>31184</td>\n",
       "      <td>3.280486</td>\n",
       "      <td>1548</td>\n",
       "    </tr>\n",
       "    <tr>\n",
       "      <th>4673</th>\n",
       "      <td>Руслан</td>\n",
       "      <td>Гафурович</td>\n",
       "      <td>Хаиткулов</td>\n",
       "      <td>33620</td>\n",
       "      <td>3.223866</td>\n",
       "      <td>3600</td>\n",
       "    </tr>\n",
       "    <tr>\n",
       "      <th>1918</th>\n",
       "      <td>Тимур</td>\n",
       "      <td>Рустемович</td>\n",
       "      <td>Кафиатуллин</td>\n",
       "      <td>13782</td>\n",
       "      <td>3.218061</td>\n",
       "      <td>1512</td>\n",
       "    </tr>\n",
       "    <tr>\n",
       "      <th>2443</th>\n",
       "      <td>Виталий</td>\n",
       "      <td>Валерьевич</td>\n",
       "      <td>Кунашко</td>\n",
       "      <td>17296</td>\n",
       "      <td>3.211821</td>\n",
       "      <td>1872</td>\n",
       "    </tr>\n",
       "    <tr>\n",
       "      <th>4652</th>\n",
       "      <td>Михаил</td>\n",
       "      <td>Дмитриевич</td>\n",
       "      <td>Фрадис</td>\n",
       "      <td>33456</td>\n",
       "      <td>3.211079</td>\n",
       "      <td>1692</td>\n",
       "    </tr>\n",
       "    <tr>\n",
       "      <th>7794</th>\n",
       "      <td>Денис</td>\n",
       "      <td>Андреевич</td>\n",
       "      <td>Галиакберов</td>\n",
       "      <td>70750</td>\n",
       "      <td>3.210678</td>\n",
       "      <td>1980</td>\n",
       "    </tr>\n",
       "    <tr>\n",
       "      <th>7951</th>\n",
       "      <td>Мария</td>\n",
       "      <td>Владимировна</td>\n",
       "      <td>Подрядчикова</td>\n",
       "      <td>72211</td>\n",
       "      <td>3.194483</td>\n",
       "      <td>1764</td>\n",
       "    </tr>\n",
       "    <tr>\n",
       "      <th>493</th>\n",
       "      <td>Игорь</td>\n",
       "      <td>Владимирович</td>\n",
       "      <td>Биткин</td>\n",
       "      <td>3438</td>\n",
       "      <td>3.194404</td>\n",
       "      <td>2304</td>\n",
       "    </tr>\n",
       "    <tr>\n",
       "      <th>4992</th>\n",
       "      <td>Алексей</td>\n",
       "      <td>Владимирович</td>\n",
       "      <td>Шередега</td>\n",
       "      <td>36035</td>\n",
       "      <td>3.188458</td>\n",
       "      <td>1764</td>\n",
       "    </tr>\n",
       "    <tr>\n",
       "      <th>9595</th>\n",
       "      <td>Вадим</td>\n",
       "      <td>Игоревич</td>\n",
       "      <td>Яковлев</td>\n",
       "      <td>90915</td>\n",
       "      <td>3.187668</td>\n",
       "      <td>3204</td>\n",
       "    </tr>\n",
       "    <tr>\n",
       "      <th>4512</th>\n",
       "      <td>Игорь</td>\n",
       "      <td>Вячеславович</td>\n",
       "      <td>Тюнькин</td>\n",
       "      <td>32458</td>\n",
       "      <td>3.186425</td>\n",
       "      <td>3384</td>\n",
       "    </tr>\n",
       "    <tr>\n",
       "      <th>327</th>\n",
       "      <td>Ася</td>\n",
       "      <td>Сергеевна</td>\n",
       "      <td>Самойлова</td>\n",
       "      <td>2421</td>\n",
       "      <td>3.186232</td>\n",
       "      <td>2700</td>\n",
       "    </tr>\n",
       "    <tr>\n",
       "      <th>4620</th>\n",
       "      <td>Сергей</td>\n",
       "      <td>Викторович</td>\n",
       "      <td>Филин</td>\n",
       "      <td>33236</td>\n",
       "      <td>3.185293</td>\n",
       "      <td>2016</td>\n",
       "    </tr>\n",
       "    <tr>\n",
       "      <th>3615</th>\n",
       "      <td>Николай</td>\n",
       "      <td>Александрович</td>\n",
       "      <td>Порцель</td>\n",
       "      <td>25819</td>\n",
       "      <td>3.164259</td>\n",
       "      <td>2232</td>\n",
       "    </tr>\n",
       "    <tr>\n",
       "      <th>743</th>\n",
       "      <td>Дмитрий</td>\n",
       "      <td>Вадимович</td>\n",
       "      <td>Великов</td>\n",
       "      <td>5328</td>\n",
       "      <td>3.161167</td>\n",
       "      <td>2052</td>\n",
       "    </tr>\n",
       "  </tbody>\n",
       "</table>\n",
       "</div>"
      ],
      "text/plain": [
       "             name     patronymic        surname  players_id  strength  count\n",
       "3832       Максим     Михайлович          Руссо       27403  4.164991   1872\n",
       "601    Александра   Владимировна         Брутер        4270  4.033636   2304\n",
       "4021         Иван     Николаевич        Семушин       28751  3.984045   3276\n",
       "3904       Михаил   Владимирович      Савченков       27822  3.895236   2664\n",
       "4207        Артём      Сергеевич       Сорожкин       30152  3.815803   4320\n",
       "4227       Сергей     Леонидович        Спешков       30270  3.815690   2952\n",
       "2908    Станислав    Григорьевич    Мереминский       20691  3.691010   1260\n",
       "3202       Сергей       Игоревич      Николенко       22799  3.564367   1656\n",
       "2594    Александр     Витальевич          Либер       18332  3.521475   3132\n",
       "2803    Александр     Валерьевич         Марков       19915  3.494593   2412\n",
       "981       Алексей   Владимирович          Гилёв        7008  3.494427   3816\n",
       "226          Юлия      Сергеевна  Архангельская        1585  3.477822   1332\n",
       "2378      Наталья     Алексеевна      Кудряшова       16837  3.476416   2088\n",
       "2304      Николай     Валерьевич        Крапиль       16332  3.466449   1332\n",
       "6671      Наталья     Евгеньевна       Горелова       56647  3.464547   1692\n",
       "8145       Михаил      Андреевич      Новосёлов       74382  3.454262   2412\n",
       "4839        Антон    Анатольевич         Чернин       34846  3.446627   1224\n",
       "2069      Николай  Александрович      Коврижных       14786  3.443719   2304\n",
       "870          Юрий      Яковлевич        Выменец        6212  3.435515   2700\n",
       "3343       Андрей   Вячеславович     Островский       23737  3.433695   2196\n",
       "2814    Александр       Ефимович       Мартынов       20001  3.408659   1224\n",
       "5262      Дмитрий     Николаевич         Петров       37718  3.399658   2088\n",
       "68         Иделия    Мукадясовна     Айзятулова         505  3.398249   1620\n",
       "4591      Татьяна     Евгеньевна       Фёдорова       33032  3.395489   2628\n",
       "4578        Наиль     Евгеньевич       Фарукшин       32901  3.378227   2520\n",
       "4012         Инна   Валентиновна       Семёнова       28689  3.360750   1944\n",
       "2189     Кристина       Олеговна      Кораблина       15595  3.352206   2412\n",
       "3253    Елизавета      Сергеевна       Овдеенко       23178  3.331009   1800\n",
       "3274      Дмитрий      Сергеевич         Ожигов       23321  3.329323   3060\n",
       "2166       Сергей   Владимирович      Коновалов       15456  3.312394   1620\n",
       "1501         Иван     Николаевич        Ефремов       10695  3.309201   1476\n",
       "3626       Максим      Оскарович        Поташев       25882  3.302452   1368\n",
       "1487        Павел     Михайлович          Ершов       10586  3.295038   2412\n",
       "896           Ким      Гагикович        Галачян        6482  3.295032   2808\n",
       "10104     Наталья  Александровна          Комар       96330  3.287711   3492\n",
       "4347       Эльман    Эльдар оглы        Талыбов       31184  3.280486   1548\n",
       "4673       Руслан      Гафурович      Хаиткулов       33620  3.223866   3600\n",
       "1918        Тимур     Рустемович    Кафиатуллин       13782  3.218061   1512\n",
       "2443      Виталий     Валерьевич        Кунашко       17296  3.211821   1872\n",
       "4652       Михаил     Дмитриевич         Фрадис       33456  3.211079   1692\n",
       "7794        Денис      Андреевич    Галиакберов       70750  3.210678   1980\n",
       "7951        Мария   Владимировна   Подрядчикова       72211  3.194483   1764\n",
       "493         Игорь   Владимирович         Биткин        3438  3.194404   2304\n",
       "4992      Алексей   Владимирович       Шередега       36035  3.188458   1764\n",
       "9595        Вадим       Игоревич        Яковлев       90915  3.187668   3204\n",
       "4512        Игорь   Вячеславович        Тюнькин       32458  3.186425   3384\n",
       "327           Ася      Сергеевна      Самойлова        2421  3.186232   2700\n",
       "4620       Сергей     Викторович          Филин       33236  3.185293   2016\n",
       "3615      Николай  Александрович        Порцель       25819  3.164259   2232\n",
       "743       Дмитрий      Вадимович        Великов        5328  3.161167   2052"
      ]
     },
     "execution_count": 173,
     "metadata": {},
     "output_type": "execute_result"
    }
   ],
   "source": [
    "rate_of_player[rate_of_player['count'] > 1200].sort_values(by='strength', ascending=False).head(50)"
   ]
  },
  {
   "cell_type": "markdown",
   "id": "44c09a7f",
   "metadata": {},
   "source": [
    "Видим, что в топе находятся те же люди, что и в реальном рейтинге"
   ]
  },
  {
   "cell_type": "markdown",
   "id": "3f2d08d9",
   "metadata": {},
   "source": [
    "Качество рейтинг-системы оценивается качеством предсказаний результатов турниров. Но сами повопросные результаты наши модели предсказывать вряд ли смогут, ведь неизвестно, насколько сложными окажутся вопросы в будущих турнирах. Поэтому нужно предсказать результаты нового турнира с известными составами, но неизвестными вопросами в виде ранжирования команд. В качестве метрики качества на тестовом наборе будем считать ранговые корреляции Спирмена и Кендалла между реальным результатом ранжирования турнира и предсказанным"
   ]
  },
  {
   "cell_type": "markdown",
   "id": "0801cff3",
   "metadata": {},
   "source": [
    "Попробуем такую идею: посмотрим как распределены вопросы и выберем средний по сложности. На этот вопрос и будет отвечать команды из тестового множества."
   ]
  },
  {
   "cell_type": "code",
   "execution_count": 180,
   "id": "c8d0f616",
   "metadata": {},
   "outputs": [
    {
     "data": {
      "text/plain": [
       "0        0.756110\n",
       "1        1.597481\n",
       "2        1.134480\n",
       "3        1.132524\n",
       "4        1.112600\n",
       "           ...   \n",
       "56342   -2.199350\n",
       "56343   -0.855006\n",
       "56344   -0.167448\n",
       "56345   -0.522065\n",
       "56346    0.848935\n",
       "Name: strength, Length: 56347, dtype: float64"
      ]
     },
     "execution_count": 180,
     "metadata": {},
     "output_type": "execute_result"
    }
   ],
   "source": [
    "rate_of_player.strength"
   ]
  },
  {
   "cell_type": "code",
   "execution_count": 192,
   "id": "145b016e",
   "metadata": {},
   "outputs": [
    {
     "data": {
      "text/plain": [
       "<AxesSubplot:xlabel='Распределение скилла игроков', ylabel='Density'>"
      ]
     },
     "execution_count": 192,
     "metadata": {},
     "output_type": "execute_result"
    },
    {
     "data": {
      "image/png": "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\n",
      "text/plain": [
       "<Figure size 432x288 with 1 Axes>"
      ]
     },
     "metadata": {
      "needs_background": "light"
     },
     "output_type": "display_data"
    }
   ],
   "source": [
    "sns.distplot(rate_of_player.strength, axlabel = \"Распределение скилла игроков\")"
   ]
  },
  {
   "cell_type": "code",
   "execution_count": 193,
   "id": "162bdfff",
   "metadata": {},
   "outputs": [
    {
     "data": {
      "text/plain": [
       "<AxesSubplot:xlabel='Распределение сложности вопросов', ylabel='Density'>"
      ]
     },
     "execution_count": 193,
     "metadata": {},
     "output_type": "execute_result"
    },
    {
     "data": {
      "image/png": "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\n",
      "text/plain": [
       "<Figure size 432x288 with 1 Axes>"
      ]
     },
     "metadata": {
      "needs_background": "light"
     },
     "output_type": "display_data"
    }
   ],
   "source": [
    "sns.distplot(clf.coef_[0][len(players_index_in_train):], axlabel = \"Распределение сложности вопросов\")"
   ]
  },
  {
   "cell_type": "markdown",
   "id": "32f4915e",
   "metadata": {},
   "source": [
    "Видим, что распределение вопросов симметричное, поэтому за среднйи по сложности вопрос можно взять минимальный по модулю, скорее всего он будет очень близок к нулю "
   ]
  },
  {
   "cell_type": "code",
   "execution_count": 234,
   "id": "7af0f028",
   "metadata": {},
   "outputs": [],
   "source": [
    "mid_quest = np.abs(clf.coef_[0][len(all_pl):]).min()\n",
    "mid_quest_ind = 0\n",
    "\n",
    "for i in range(clf.coef_[0][len(all_pl):].shape[0]):\n",
    "    if abs(clf.coef_[0][len(all_pl):][i]) == mid_quest:\n",
    "        mid_quest_ind = i\n",
    "        \n",
    "mid_quest = ohe_hot_questions.categories_[0][mid_quest_ind]\n"
   ]
  },
  {
   "cell_type": "code",
   "execution_count": 235,
   "id": "989d74df",
   "metadata": {},
   "outputs": [
    {
     "data": {
      "text/plain": [
       "'5649-62'"
      ]
     },
     "execution_count": 235,
     "metadata": {},
     "output_type": "execute_result"
    }
   ],
   "source": [
    "mid_quest"
   ]
  },
  {
   "cell_type": "markdown",
   "id": "170a8be0",
   "metadata": {},
   "source": [
    "Предобработаем тестовые данные, по сранению с данными для обучения в них есть данные о позиции команды в турнире"
   ]
  },
  {
   "cell_type": "code",
   "execution_count": 238,
   "id": "9dfaab76",
   "metadata": {},
   "outputs": [],
   "source": [
    "test_info = []\n",
    "\n",
    "for index in data_test_tournaments.index:\n",
    "    tournament_results = results[index]\n",
    "    cnt_questions = set()\n",
    "    \n",
    "    mask = \"\"\n",
    "    \n",
    "    data_tournament_results = []\n",
    "    \n",
    "    for team in results[index]:\n",
    "        if team.get('mask') is not None:\n",
    "            cnt_questions.add(len(team['mask'].replace(\"?\", \"\").replace(\"X\", \"\")))\n",
    "\n",
    "    if len(cnt_questions) > 1:\n",
    "        continue\n",
    "        \n",
    "    for team in tournament_results:\n",
    "        info = {}\n",
    "        if team.get(\"mask\") is None or team.get(\"teamMembers\") is None:\n",
    "            continue\n",
    "        if team[\"teamMembers\"] == []:\n",
    "            continue\n",
    "        \n",
    "        mask = team[\"mask\"].replace(\"?\", \"\").replace(\"X\", \"\")\n",
    "        info[\"tournament_id\"] = index\n",
    "        info[\"team_id\"] = team.get(\"team\").get(\"id\")\n",
    "        info[\"mask\"] = list(map(int, mask))\n",
    "        info[\"players_id\"] = []\n",
    "        info[\"position\"] = team[\"position\"]\n",
    "        players = team[\"teamMembers\"]\n",
    "        \n",
    "        for player in players:\n",
    "            info[\"players_id\"].append(player[\"player\"][\"id\"])\n",
    "        \n",
    "        data_tournament_results.append(info)\n",
    "    if mask:\n",
    "        test_info.append(data_tournament_results)"
   ]
  },
  {
   "cell_type": "code",
   "execution_count": 241,
   "id": "b1d18e23",
   "metadata": {},
   "outputs": [
    {
     "data": {
      "text/plain": [
       "{'tournament_id': 4957,\n",
       " 'team_id': 49804,\n",
       " 'mask': [1,\n",
       "  1,\n",
       "  1,\n",
       "  1,\n",
       "  1,\n",
       "  1,\n",
       "  0,\n",
       "  1,\n",
       "  1,\n",
       "  1,\n",
       "  1,\n",
       "  1,\n",
       "  1,\n",
       "  1,\n",
       "  0,\n",
       "  1,\n",
       "  1,\n",
       "  0,\n",
       "  1,\n",
       "  1,\n",
       "  1,\n",
       "  0,\n",
       "  1,\n",
       "  1,\n",
       "  1,\n",
       "  1,\n",
       "  0,\n",
       "  0,\n",
       "  0,\n",
       "  1,\n",
       "  0,\n",
       "  1,\n",
       "  0,\n",
       "  1,\n",
       "  0,\n",
       "  0,\n",
       "  0,\n",
       "  1],\n",
       " 'players_id': [30152, 30270, 27822, 28751, 27403, 4270],\n",
       " 'position': 1}"
      ]
     },
     "execution_count": 241,
     "metadata": {},
     "output_type": "execute_result"
    }
   ],
   "source": [
    "test_info[0][0]"
   ]
  },
  {
   "cell_type": "markdown",
   "id": "3437e407",
   "metadata": {},
   "source": [
    "Будем использовать обученную модель логистической регрессии и предскажем вероятность правильного ответа для каждого игрока команды на этот средний вопрос, после чего рейтингом команды будет усредненная вероятность правильного ответа на средний вопрос каждого игрока команды"
   ]
  },
  {
   "cell_type": "code",
   "execution_count": 252,
   "id": "a8f7e074",
   "metadata": {},
   "outputs": [
    {
     "name": "stderr",
     "output_type": "stream",
     "text": [
      "100%|████████████████████████████████████████████████████████████████████████████████| 165/165 [13:48<00:00,  5.02s/it]\n"
     ]
    }
   ],
   "source": [
    "result_of_test = {}\n",
    "\n",
    "for tour in tqdm(test_info):\n",
    "    tour_res = {}\n",
    "    \n",
    "    for team in tour:\n",
    "        team_players = []\n",
    "        for pl in team[\"players_id\"]:\n",
    "            try:\n",
    "                ohe_hot_players.transform([[pl]])\n",
    "                team_players.append(pl)\n",
    "            except ValueError:\n",
    "                continue   \n",
    "        if len(team_players) == 0:\n",
    "            continue\n",
    "        \n",
    "        team_players = np.array(team_players).reshape(-1, 1)\n",
    "        matrix_of_pl = ohe_hot_players.transform(team_players)\n",
    "        matrix_of_qu = ohe_hot_questions.transform(np.array([mid_quest] * len(team_players)).reshape(-1, 1))\n",
    "        \n",
    "        val = hstack([matrix_of_pl, matrix_of_qu])\n",
    "        res = clf.predict_proba(val)[:, 1]\n",
    "        \n",
    "        skill = res.mean()\n",
    "        tour_res[team[\"team_id\"]] = (skill, team[\"position\"])\n",
    "    \n",
    "    result_of_test[tour[0][\"tournament_id\"]] = tour_res"
   ]
  },
  {
   "cell_type": "code",
   "execution_count": 262,
   "id": "7ae130e1",
   "metadata": {},
   "outputs": [
    {
     "name": "stdout",
     "output_type": "stream",
     "text": [
      "Spearman: 0.781233527013567\n",
      "Kendall: 0.6259876339517997\n"
     ]
    }
   ],
   "source": [
    "spearman_res = []\n",
    "kendall_res = []\n",
    "\n",
    "for tour in result_of_test.values():\n",
    "    pred = []\n",
    "    real_res = []\n",
    "    for team in tour.values():\n",
    "        pred.append(team[0])\n",
    "        real_res.append(team[1])\n",
    "        \n",
    "    spearman_res.append(spearmanr(pred, real_res)[0])\n",
    "    kendall_res.append(kendalltau(pred, real_res)[0])\n",
    "\n",
    "spear = np.mean([x for x in spearman_res if np.isfinite(x)])\n",
    "kendall = np.mean([y for y in kendall_res if np.isfinite(y)])\n",
    "\n",
    "\n",
    "print('Spearman: {}'.format(abs(spear)))\n",
    "print('Kendall: {}'.format(abs(kendall)))"
   ]
  },
  {
   "cell_type": "markdown",
   "id": "bbef7e7c",
   "metadata": {},
   "source": [
    "Используем теперь другую формулу для подсчета скилла команды. Вероятность правильного ответа команды на средний вопрос считается по формуле: $Skillteam = 1 - \\prod_{i \\in team} (1 - P [skill_i, MidQuest])$, team - список игроков в команде."
   ]
  },
  {
   "cell_type": "code",
   "execution_count": 263,
   "id": "75f13029",
   "metadata": {},
   "outputs": [
    {
     "name": "stderr",
     "output_type": "stream",
     "text": [
      "100%|████████████████████████████████████████████████████████████████████████████████| 165/165 [13:48<00:00,  5.02s/it]\n"
     ]
    }
   ],
   "source": [
    "result_of_test = {}\n",
    "\n",
    "for tour in tqdm(test_info):\n",
    "    tour_res = {}\n",
    "    \n",
    "    for team in tour:\n",
    "        team_players = []\n",
    "        for pl in team[\"players_id\"]:\n",
    "            try:\n",
    "                ohe_hot_players.transform([[pl]])\n",
    "                team_players.append(pl)\n",
    "            except ValueError:\n",
    "                continue   \n",
    "        if len(team_players) == 0:\n",
    "            continue\n",
    "        \n",
    "        team_players = np.array(team_players).reshape(-1, 1)\n",
    "        matrix_of_pl = ohe_hot_players.transform(team_players)\n",
    "        matrix_of_qu = ohe_hot_questions.transform(np.array([mid_quest] * len(team_players)).reshape(-1, 1))\n",
    "        \n",
    "        val = hstack([matrix_of_pl, matrix_of_qu])\n",
    "        res = clf.predict_proba(val)[:, 1]\n",
    "        skill = 1 - np.product(1 - res)\n",
    "        \n",
    "        tour_res[team[\"team_id\"]] = (skill, team[\"position\"])\n",
    "    \n",
    "    result_of_test[tour[0][\"tournament_id\"]] = tour_res"
   ]
  },
  {
   "cell_type": "code",
   "execution_count": 264,
   "id": "c28ef4dd",
   "metadata": {},
   "outputs": [
    {
     "name": "stdout",
     "output_type": "stream",
     "text": [
      "Spearman: 0.8062814902134353\n",
      "Kendall: 0.6484069509339149\n"
     ]
    }
   ],
   "source": [
    "spearman_res = []\n",
    "kendall_res = []\n",
    "\n",
    "for tour in result_of_test.values():\n",
    "    pred = []\n",
    "    real_res = []\n",
    "    for team in tour.values():\n",
    "        pred.append(team[0])\n",
    "        real_res.append(team[1])\n",
    "        \n",
    "    spearman_res.append(spearmanr(pred, real_res)[0])\n",
    "    kendall_res.append(kendalltau(pred, real_res)[0])\n",
    "\n",
    "spear = np.mean([x for x in spearman_res if np.isfinite(x)])\n",
    "kendall = np.mean([y for y in kendall_res if np.isfinite(y)])\n",
    "\n",
    "\n",
    "print('Spearman: {}'.format(abs(spear)))\n",
    "print('Kendall: {}'.format(abs(kendall)))"
   ]
  },
  {
   "cell_type": "markdown",
   "id": "be97ee0b",
   "metadata": {},
   "source": [
    "Видим, что метрики улучшились"
   ]
  },
  {
   "cell_type": "markdown",
   "id": "beb90497",
   "metadata": {},
   "source": [
    "Но всё-таки ЧГК это командная игра, а мы до этого никак это не учитывали и брали, что конкретный игрок отвечает на вопрос. Нужно учитывать, что на один вопрос отвечают сразу несколько игроков, то есть теперь получается игрок X ответил на вопрос Y должны стать зависимыми для игроков из одной команды. Разработаем EM-схему для решения этой задачи."
   ]
  },
  {
   "cell_type": "markdown",
   "id": "bb3c6125",
   "metadata": {},
   "source": [
    "Возьмём за скрытые переменные $z_i{}_j$\n",
    "* E-шаг: находим мат. ожидания $z_i{}_j$ (мат. ожидание того, что игрок i правильно ответил на вопрос j). \n",
    "\n",
    "1) $E[z_i{}_j] = 0$, если вся команда не ответила на вопрос $j$.\n",
    "\n",
    "2) $E[z_i{}_j] = \\frac{P [skill_i, question_j]}{1 - \\prod_{n \\in team} (1 - P [skill_n, question_j])}$, если комада ответила на вопрос $j$. \n",
    "\n",
    "Формулу из п.2 получаем по теореме Байеса: \n",
    "\n",
    "Пусть событие A - это команда правильно ответила на вопрос. А событие B - это игрок из команды правильно ответил на вопрос.\n",
    "\n",
    "$P(B|A) = \\frac{P(A|B)P(B)}{P(A)}$; $P(A|B) = 1$ (если игрок ответил на вопрос, то и комада ответила на вопрос). Тогда: $P(B|A) = \\frac{P(B)}{P(A)}$\n",
    "\n",
    "* M-шаг: пересчитываем параметры логистической регрессии, используя новые $z_i{}_j$."
   ]
  },
  {
   "cell_type": "code",
   "execution_count": 265,
   "id": "6ed2d69a",
   "metadata": {},
   "outputs": [],
   "source": [
    "def calc_score(model):\n",
    "    result_of_test = {}\n",
    "\n",
    "    for tour in tqdm(test_info):\n",
    "        tour_res = {}\n",
    "\n",
    "        for team in tour:\n",
    "            team_players = []\n",
    "            for pl in team[\"players_id\"]:\n",
    "                try:\n",
    "                    ohe_hot_players.transform([[pl]])\n",
    "                    team_players.append(pl)\n",
    "                except ValueError:\n",
    "                    continue   \n",
    "            if len(team_players) == 0:\n",
    "                continue\n",
    "\n",
    "            team_players = np.array(team_players).reshape(-1, 1)\n",
    "            matrix_of_pl = ohe_hot_players.transform(team_players)\n",
    "            matrix_of_qu = ohe_hot_questions.transform(np.array([mid_quest] * len(team_players)).reshape(-1, 1))\n",
    "\n",
    "            val = hstack([matrix_of_pl, matrix_of_qu])\n",
    "            res = model.predict_proba(val)[:, 1]\n",
    "            skill = 1 - np.product(1 - res)\n",
    "\n",
    "            tour_res[team[\"team_id\"]] = (skill, team[\"position\"])\n",
    "\n",
    "        result_of_test[tour[0][\"tournament_id\"]] = tour_res\n",
    "    \n",
    "    \n",
    "    spearman_res = []\n",
    "    kendall_res = []\n",
    "\n",
    "    for tour in result_of_test.values():\n",
    "        pred = []\n",
    "        real_res = []\n",
    "        for team in tour.values():\n",
    "            pred.append(team[0])\n",
    "            real_res.append(team[1])\n",
    "\n",
    "        spearman_res.append(spearmanr(pred, real_res)[0])\n",
    "        kendall_res.append(kendalltau(pred, real_res)[0])\n",
    "\n",
    "    spear = np.mean([x for x in spearman_res if np.isfinite(x)])\n",
    "    kendall = np.mean([y for y in kendall_res if np.isfinite(y)])\n",
    "    \n",
    "    \n",
    "    return abs(spear), abs(kendall)"
   ]
  },
  {
   "cell_type": "code",
   "execution_count": 269,
   "id": "ac8e78bf",
   "metadata": {},
   "outputs": [],
   "source": [
    "def E_step(model, data, target):\n",
    "\n",
    "    pred = model.predict_proba(data)[:, 1]\n",
    "    start = 0\n",
    "    for team in tqdm(train_info):\n",
    "        team_size = len(team[\"players_id\"])\n",
    "        mask_size = len(team[\"mask\"])\n",
    "        beg = start\n",
    "        end = start + len(team[\"players_id\"]) * len(team[\"mask\"])\n",
    "        \n",
    "        team_preds = pred[beg: end]\n",
    "        \n",
    "        team_ans = pred[beg: end]\n",
    "        \n",
    "        true_ans = target[beg: start + len(team[\"mask\"])]\n",
    "        team_ans = team_ans.reshape((-1, mask_size)).T\n",
    "        \n",
    "        p_A = 1 - np.prod(1 - team_ans, axis=1)\n",
    "        team_ans = team_ans / p_A.reshape(-1, 1)\n",
    "        \n",
    "        team_ans = np.where(true_ans != 0, team_ans, 0)\n",
    "        \n",
    "        pred[beg: end] = team_ans.T.reshape(-1) \n",
    "        start += len(team[\"players_id\"]) * len(team[\"mask\"])   \n",
    "    return pred"
   ]
  },
  {
   "cell_type": "code",
   "execution_count": 272,
   "id": "0f1d424f",
   "metadata": {},
   "outputs": [],
   "source": [
    "def M_step(z_ij, data):\n",
    "    z_ij = np.array(z_ij)\n",
    "    \n",
    "    y_0 = np.full((data.shape[0], 1), 0)\n",
    "    y_1 = np.full((data.shape[0], 1), 1)\n",
    "    targets = np.vstack((y_0, y_1))\n",
    "    \n",
    "    x = vstack([data, data])\n",
    "    weights = np.hstack((1 - z_ij, z_ij))\n",
    "    model = LogisticRegression(solver=\"saga\")\n",
    "    model.fit(x, targets, sample_weight=weights)\n",
    "    \n",
    "    return model"
   ]
  },
  {
   "cell_type": "code",
   "execution_count": 275,
   "id": "769d249e",
   "metadata": {},
   "outputs": [
    {
     "name": "stderr",
     "output_type": "stream",
     "text": [
      "100%|█████████████████████████████████████████████████████████████████████████| 76490/76490 [00:01<00:00, 64876.85it/s]\n",
      "100%|████████████████████████████████████████████████████████████████████████████████| 165/165 [13:45<00:00,  5.01s/it]\n"
     ]
    },
    {
     "name": "stdout",
     "output_type": "stream",
     "text": [
      "Spearman: 0.8132020485388202\n",
      "Kendall: 0.6552262920560997\n"
     ]
    },
    {
     "name": "stderr",
     "output_type": "stream",
     "text": [
      "100%|█████████████████████████████████████████████████████████████████████████| 76490/76490 [00:01<00:00, 63592.75it/s]\n",
      "100%|████████████████████████████████████████████████████████████████████████████████| 165/165 [14:27<00:00,  5.26s/it]\n"
     ]
    },
    {
     "name": "stdout",
     "output_type": "stream",
     "text": [
      "Spearman: 0.813196736070927\n",
      "Kendall: 0.6551455779130075\n"
     ]
    },
    {
     "name": "stderr",
     "output_type": "stream",
     "text": [
      "100%|█████████████████████████████████████████████████████████████████████████| 76490/76490 [00:01<00:00, 62913.50it/s]\n",
      "100%|████████████████████████████████████████████████████████████████████████████████| 165/165 [14:43<00:00,  5.35s/it]\n"
     ]
    },
    {
     "name": "stdout",
     "output_type": "stream",
     "text": [
      "Spearman: 0.8123022530359993\n",
      "Kendall: 0.6547763563916134\n"
     ]
    },
    {
     "name": "stderr",
     "output_type": "stream",
     "text": [
      "100%|█████████████████████████████████████████████████████████████████████████| 76490/76490 [00:01<00:00, 61734.30it/s]\n",
      "100%|████████████████████████████████████████████████████████████████████████████████| 165/165 [13:33<00:00,  4.93s/it]\n"
     ]
    },
    {
     "name": "stdout",
     "output_type": "stream",
     "text": [
      "Spearman: 0.8118773646314291\n",
      "Kendall: 0.6551912676786392\n"
     ]
    },
    {
     "name": "stderr",
     "output_type": "stream",
     "text": [
      "100%|█████████████████████████████████████████████████████████████████████████| 76490/76490 [00:01<00:00, 64694.67it/s]\n",
      "100%|████████████████████████████████████████████████████████████████████████████████| 165/165 [13:50<00:00,  5.03s/it]"
     ]
    },
    {
     "name": "stdout",
     "output_type": "stream",
     "text": [
      "Spearman: 0.8116376271285599\n",
      "Kendall: 0.6548762542340728\n"
     ]
    },
    {
     "name": "stderr",
     "output_type": "stream",
     "text": [
      "\n"
     ]
    }
   ],
   "source": [
    "cnt = 5\n",
    "\n",
    "models = []\n",
    "model = clf\n",
    "for i in range(cnt):\n",
    "    z_ij = E_step(model, data, target)\n",
    "    model = M_step(z_ij, data)\n",
    "    models.append(model)\n",
    "    \n",
    "    spear, kendall = calc_score(model)\n",
    "    \n",
    "    print('Spearman: {}'.format(abs(spear)))\n",
    "    print('Kendall: {}'.format(abs(kendall)))"
   ]
  }
 ],
 "metadata": {
  "kernelspec": {
   "display_name": "Python 3",
   "language": "python",
   "name": "python3"
  },
  "language_info": {
   "codemirror_mode": {
    "name": "ipython",
    "version": 3
   },
   "file_extension": ".py",
   "mimetype": "text/x-python",
   "name": "python",
   "nbconvert_exporter": "python",
   "pygments_lexer": "ipython3",
   "version": "3.9.4"
  }
 },
 "nbformat": 4,
 "nbformat_minor": 5
}
